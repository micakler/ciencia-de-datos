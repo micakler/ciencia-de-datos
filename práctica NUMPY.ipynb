{
 "cells": [
  {
   "attachments": {},
   "cell_type": "markdown",
   "metadata": {},
   "source": [
    "# Ejercicios de practica NUMPY"
   ]
  },
  {
   "attachments": {},
   "cell_type": "markdown",
   "metadata": {},
   "source": [
    "### 1) Crear un arreglo con todos los números pares del 10 al 50.\n",
    "\n"
   ]
  },
  {
   "cell_type": "code",
   "execution_count": 16,
   "metadata": {},
   "outputs": [
    {
     "name": "stdout",
     "output_type": "stream",
     "text": [
      "los numeros pares del 10 al 50 son: [10 12 14 16 18 20 22 24 26 28 30 32 34 36 38 40 42 44 46 48 50]\n"
     ]
    }
   ],
   "source": [
    "import numpy as np\n",
    "array1 = np.arange(10,51,2)\n",
    "print(\"los numeros pares del 10 al 50 son: \" + str(arr))"
   ]
  },
  {
   "attachments": {},
   "cell_type": "markdown",
   "metadata": {},
   "source": [
    "### 2) Crear un arreglo al azar de números enteros entre 0 y 100. Luego debemos calcular la media, mediana, desviación estándar, la suma de todos sus elementos."
   ]
  },
  {
   "cell_type": "code",
   "execution_count": 20,
   "metadata": {},
   "outputs": [
    {
     "name": "stdout",
     "output_type": "stream",
     "text": [
      "el arreglo es: [27 69 41 46 67 85 32 70 80 64] su media es: 58.1\n",
      "su mediana es: 65.5 su desvio estandar es: 19.14392854144624 y su suma es: 581\n"
     ]
    }
   ],
   "source": [
    "array2 = np.random.randint(0, 101, size=10)\n",
    "media = np.mean(array2)\n",
    "mediana = np.percentile(array2,50)\n",
    "desvest = np.std(array2)\n",
    "suma = array2.sum()\n",
    "print(\"el arreglo es: \" + str(array2) + \" su media es: \" + str(media) + \"\\nsu mediana es: \"+ str(mediana) + \" su desvio estandar es: \"+ str(desvest) + \" y su suma es: \" + str(suma))"
   ]
  },
  {
   "attachments": {},
   "cell_type": "markdown",
   "metadata": {},
   "source": [
    "### 3) Crear una matriz con valores al azar entre 0 y 1, con forma 3x3."
   ]
  },
  {
   "cell_type": "code",
   "execution_count": 26,
   "metadata": {},
   "outputs": [
    {
     "name": "stdout",
     "output_type": "stream",
     "text": [
      "la matriz con valores al azar entre 0 y 2 con forma 3 x 3 es\n",
      "[[0.90486133 0.60625773 0.62823734]\n",
      " [0.13422325 0.41203069 0.25717636]\n",
      " [0.0851092  0.14209467 0.93703849]]\n"
     ]
    }
   ],
   "source": [
    "matriz = np.random.rand(3,3)\n",
    "print(\"la matriz con valores al azar entre 0 y 2 con forma 3 x 3 es\\n\" + str(matriz))"
   ]
  },
  {
   "attachments": {},
   "cell_type": "markdown",
   "metadata": {},
   "source": [
    "### 4) Encontrar los valores mínimos y máximos de la anterior matriz\n",
    "\n"
   ]
  },
  {
   "cell_type": "code",
   "execution_count": 27,
   "metadata": {},
   "outputs": [
    {
     "name": "stdout",
     "output_type": "stream",
     "text": [
      "el valor maximo es: 0.9370384868916896 y el valor minimo es : 0.08510920160095059\n"
     ]
    }
   ],
   "source": [
    "max = matriz.max()\n",
    "min = matriz.min()\n",
    "print (\"el valor maximo es: \" + str(max) + \" y el valor minimo es : \" +str(min))"
   ]
  },
  {
   "attachments": {},
   "cell_type": "markdown",
   "metadata": {},
   "source": [
    "### 5) Crear un arreglo de 12 elementos, en el cual cada elemento refleje la inflación mensual durante el año 2022. Encontrar el valor mínimo, máximo, y media."
   ]
  },
  {
   "cell_type": "code",
   "execution_count": 30,
   "metadata": {},
   "outputs": [
    {
     "name": "stdout",
     "output_type": "stream",
     "text": [
      "la inflacion de cada mes fue: [3.9 4.7 6.7 6.  5.1 7.4 7.  6.2 6.3 4.9 5.1] el valor maximo es: 7.4\n",
      " el valor minimo es: 3.9 la media es es: 5.754545454545454\n"
     ]
    }
   ],
   "source": [
    "inflacion = np.array([3.9 , 4.7, 6.7, 6, 5.1, 7.4, 7, 6.2, 6.3, 4.9, 5.1])\n",
    "inmax = inflacion.max()\n",
    "inmin = inflacion.min()\n",
    "inmedia = np.mean(inflacion)\n",
    "print (\"la inflacion de cada mes fue: \" + str(inflacion)+ \" el valor maximo es: \" + str(inmax) + \"\\n el valor minimo es: \" + str(inmin)+ \" la media es es: \" + str(inmedia))"
   ]
  }
 ],
 "metadata": {
  "kernelspec": {
   "display_name": "Python 3",
   "language": "python",
   "name": "python3"
  },
  "language_info": {
   "codemirror_mode": {
    "name": "ipython",
    "version": 3
   },
   "file_extension": ".py",
   "mimetype": "text/x-python",
   "name": "python",
   "nbconvert_exporter": "python",
   "pygments_lexer": "ipython3",
   "version": "3.10.11"
  },
  "orig_nbformat": 4
 },
 "nbformat": 4,
 "nbformat_minor": 2
}
